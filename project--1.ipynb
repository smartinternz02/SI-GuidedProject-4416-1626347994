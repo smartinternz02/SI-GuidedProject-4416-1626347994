{
 "cells": [
  {
   "cell_type": "code",
   "execution_count": 1,
   "id": "ada99770",
   "metadata": {},
   "outputs": [],
   "source": [
    "#import libraries\n",
    "import numpy as np\n",
    "import pandas as pd\n",
    "import matplotlib.pyplot as plt"
   ]
  },
  {
   "cell_type": "code",
   "execution_count": 2,
   "id": "c1f248f8",
   "metadata": {},
   "outputs": [
    {
     "data": {
      "text/html": [
       "<div>\n",
       "<style scoped>\n",
       "    .dataframe tbody tr th:only-of-type {\n",
       "        vertical-align: middle;\n",
       "    }\n",
       "\n",
       "    .dataframe tbody tr th {\n",
       "        vertical-align: top;\n",
       "    }\n",
       "\n",
       "    .dataframe thead th {\n",
       "        text-align: right;\n",
       "    }\n",
       "</style>\n",
       "<table border=\"1\" class=\"dataframe\">\n",
       "  <thead>\n",
       "    <tr style=\"text-align: right;\">\n",
       "      <th></th>\n",
       "      <th>Month</th>\n",
       "      <th>#Passengers</th>\n",
       "    </tr>\n",
       "  </thead>\n",
       "  <tbody>\n",
       "    <tr>\n",
       "      <th>0</th>\n",
       "      <td>1949-01</td>\n",
       "      <td>112</td>\n",
       "    </tr>\n",
       "    <tr>\n",
       "      <th>1</th>\n",
       "      <td>1949-02</td>\n",
       "      <td>118</td>\n",
       "    </tr>\n",
       "    <tr>\n",
       "      <th>2</th>\n",
       "      <td>1949-03</td>\n",
       "      <td>132</td>\n",
       "    </tr>\n",
       "    <tr>\n",
       "      <th>3</th>\n",
       "      <td>1949-04</td>\n",
       "      <td>129</td>\n",
       "    </tr>\n",
       "    <tr>\n",
       "      <th>4</th>\n",
       "      <td>1949-05</td>\n",
       "      <td>121</td>\n",
       "    </tr>\n",
       "    <tr>\n",
       "      <th>...</th>\n",
       "      <td>...</td>\n",
       "      <td>...</td>\n",
       "    </tr>\n",
       "    <tr>\n",
       "      <th>139</th>\n",
       "      <td>1960-08</td>\n",
       "      <td>606</td>\n",
       "    </tr>\n",
       "    <tr>\n",
       "      <th>140</th>\n",
       "      <td>1960-09</td>\n",
       "      <td>508</td>\n",
       "    </tr>\n",
       "    <tr>\n",
       "      <th>141</th>\n",
       "      <td>1960-10</td>\n",
       "      <td>461</td>\n",
       "    </tr>\n",
       "    <tr>\n",
       "      <th>142</th>\n",
       "      <td>1960-11</td>\n",
       "      <td>390</td>\n",
       "    </tr>\n",
       "    <tr>\n",
       "      <th>143</th>\n",
       "      <td>1960-12</td>\n",
       "      <td>432</td>\n",
       "    </tr>\n",
       "  </tbody>\n",
       "</table>\n",
       "<p>144 rows × 2 columns</p>\n",
       "</div>"
      ],
      "text/plain": [
       "       Month  #Passengers\n",
       "0    1949-01          112\n",
       "1    1949-02          118\n",
       "2    1949-03          132\n",
       "3    1949-04          129\n",
       "4    1949-05          121\n",
       "..       ...          ...\n",
       "139  1960-08          606\n",
       "140  1960-09          508\n",
       "141  1960-10          461\n",
       "142  1960-11          390\n",
       "143  1960-12          432\n",
       "\n",
       "[144 rows x 2 columns]"
      ]
     },
     "execution_count": 2,
     "metadata": {},
     "output_type": "execute_result"
    }
   ],
   "source": [
    "#Read the dataset\n",
    "data = pd.read_csv('AirPassengers.csv')\n",
    "data"
   ]
  },
  {
   "cell_type": "code",
   "execution_count": 3,
   "id": "30713232",
   "metadata": {},
   "outputs": [
    {
     "data": {
      "text/html": [
       "<div>\n",
       "<style scoped>\n",
       "    .dataframe tbody tr th:only-of-type {\n",
       "        vertical-align: middle;\n",
       "    }\n",
       "\n",
       "    .dataframe tbody tr th {\n",
       "        vertical-align: top;\n",
       "    }\n",
       "\n",
       "    .dataframe thead th {\n",
       "        text-align: right;\n",
       "    }\n",
       "</style>\n",
       "<table border=\"1\" class=\"dataframe\">\n",
       "  <thead>\n",
       "    <tr style=\"text-align: right;\">\n",
       "      <th></th>\n",
       "      <th>Month</th>\n",
       "      <th>#Passengers</th>\n",
       "    </tr>\n",
       "  </thead>\n",
       "  <tbody>\n",
       "    <tr>\n",
       "      <th>0</th>\n",
       "      <td>1949-01</td>\n",
       "      <td>112</td>\n",
       "    </tr>\n",
       "    <tr>\n",
       "      <th>1</th>\n",
       "      <td>1949-02</td>\n",
       "      <td>118</td>\n",
       "    </tr>\n",
       "    <tr>\n",
       "      <th>2</th>\n",
       "      <td>1949-03</td>\n",
       "      <td>132</td>\n",
       "    </tr>\n",
       "    <tr>\n",
       "      <th>3</th>\n",
       "      <td>1949-04</td>\n",
       "      <td>129</td>\n",
       "    </tr>\n",
       "    <tr>\n",
       "      <th>4</th>\n",
       "      <td>1949-05</td>\n",
       "      <td>121</td>\n",
       "    </tr>\n",
       "  </tbody>\n",
       "</table>\n",
       "</div>"
      ],
      "text/plain": [
       "     Month  #Passengers\n",
       "0  1949-01          112\n",
       "1  1949-02          118\n",
       "2  1949-03          132\n",
       "3  1949-04          129\n",
       "4  1949-05          121"
      ]
     },
     "execution_count": 3,
     "metadata": {},
     "output_type": "execute_result"
    }
   ],
   "source": [
    "data.head()"
   ]
  },
  {
   "cell_type": "code",
   "execution_count": 4,
   "id": "95306c91",
   "metadata": {},
   "outputs": [],
   "source": [
    "data = data.rename(columns={'#Passengers':'Passengers'})"
   ]
  },
  {
   "cell_type": "code",
   "execution_count": 5,
   "id": "c71268e9",
   "metadata": {},
   "outputs": [],
   "source": [
    "data['year'] = pd.DatetimeIndex(data['Month']).year\n",
    "data['month'] = pd.DatetimeIndex(data['Month']).month\n"
   ]
  },
  {
   "cell_type": "code",
   "execution_count": 6,
   "id": "c9ebe885",
   "metadata": {},
   "outputs": [],
   "source": [
    "data.drop(['Month'],axis=1,inplace=True)"
   ]
  },
  {
   "cell_type": "code",
   "execution_count": 7,
   "id": "a8eb47d5",
   "metadata": {},
   "outputs": [
    {
     "data": {
      "text/plain": [
       "<AxesSubplot:xlabel='year', ylabel='Passengers'>"
      ]
     },
     "execution_count": 7,
     "metadata": {},
     "output_type": "execute_result"
    },
    {
     "data": {
      "image/png": "[encoded data removed]",
      "text/plain": [
       "<Figure size 432x288 with 1 Axes>"
      ]
     },
     "metadata": {
      "needs_background": "light"
     },
     "output_type": "display_data"
    }
   ],
   "source": [
    "import seaborn as sns\n",
    "sns.lineplot(x='year',y='Passengers',data=data,color='red')"
   ]
  },
  {
   "cell_type": "code",
   "execution_count": 8,
   "id": "6a6f8b96",
   "metadata": {},
   "outputs": [
    {
     "data": {
      "text/plain": [
       "<AxesSubplot:xlabel='month', ylabel='Passengers'>"
      ]
     },
     "execution_count": 8,
     "metadata": {},
     "output_type": "execute_result"
    },
    {
     "data": {
      "image/png": "[encoded data removed]",
      "text/plain": [
       "<Figure size 432x288 with 1 Axes>"
      ]
     },
     "metadata": {
      "needs_background": "light"
     },
     "output_type": "display_data"
    }
   ],
   "source": [
    "import seaborn as sns\n",
    "sns.lineplot(x='month',y='Passengers',data=data,color='red')"
   ]
  },
  {
   "cell_type": "code",
   "execution_count": 9,
   "id": "3cd8924b",
   "metadata": {},
   "outputs": [
    {
     "data": {
      "text/plain": [
       "<AxesSubplot:xlabel='y(t)', ylabel='y(t + 1)'>"
      ]
     },
     "execution_count": 9,
     "metadata": {},
     "output_type": "execute_result"
    },
    {
     "data": {
      "image/png": "[encoded data removed]",
      "text/plain": [
       "<Figure size 432x288 with 1 Axes>"
      ]
     },
     "metadata": {
      "needs_background": "light"
     },
     "output_type": "display_data"
    }
   ],
   "source": [
    "pd.plotting.lag_plot(data['Passengers'])"
   ]
  },
  {
   "cell_type": "code",
   "execution_count": 10,
   "id": "951a88c4",
   "metadata": {},
   "outputs": [
    {
     "name": "stdout",
     "output_type": "stream",
     "text": [
      "(144, 3) (129, 3) (15, 3)\n"
     ]
    }
   ],
   "source": [
    "train_len = int(0.9*len(data))\n",
    "test_len = len(data) - train_len\n",
    "\n",
    "\n",
    "train,test = data.iloc[:train_len],data.iloc[train_len:len(data)]\n",
    "print(data.shape,train.shape,test.shape)"
   ]
  },
  {
   "cell_type": "code",
   "execution_count": 11,
   "id": "b37e95c0",
   "metadata": {},
   "outputs": [],
   "source": [
    "from sklearn.preprocessing import RobustScaler\n",
    "rs = RobustScaler()\n",
    "rs_pas = RobustScaler()"
   ]
  },
  {
   "cell_type": "code",
   "execution_count": 12,
   "id": "8b8b703f",
   "metadata": {},
   "outputs": [
    {
     "name": "stderr",
     "output_type": "stream",
     "text": [
      "C:\\Users\\HP\\anaconda3\\lib\\site-packages\\pandas\\core\\indexing.py:1738: SettingWithCopyWarning: \n",
      "A value is trying to be set on a copy of a slice from a DataFrame.\n",
      "Try using .loc[row_indexer,col_indexer] = value instead\n",
      "\n",
      "See the caveats in the documentation: https://pandas.pydata.org/pandas-docs/stable/user_guide/indexing.html#returning-a-view-versus-a-copy\n",
      "  self._setitem_single_column(loc, value[:, i].tolist(), pi)\n",
      "C:\\Users\\HP\\anaconda3\\lib\\site-packages\\pandas\\core\\indexing.py:1738: SettingWithCopyWarning: \n",
      "A value is trying to be set on a copy of a slice from a DataFrame.\n",
      "Try using .loc[row_indexer,col_indexer] = value instead\n",
      "\n",
      "See the caveats in the documentation: https://pandas.pydata.org/pandas-docs/stable/user_guide/indexing.html#returning-a-view-versus-a-copy\n",
      "  self._setitem_single_column(loc, value[:, i].tolist(), pi)\n"
     ]
    }
   ],
   "source": [
    "t_c = ['year','month']\n",
    "train.loc[:,t_c] = rs.fit_transform(train[t_c].to_numpy())\n",
    "test.loc[:,t_c] = rs.transform(test[t_c].to_numpy())"
   ]
  },
  {
   "cell_type": "code",
   "execution_count": 13,
   "id": "cc2efdab",
   "metadata": {},
   "outputs": [
    {
     "name": "stderr",
     "output_type": "stream",
     "text": [
      "<ipython-input-13-8d79c30db599>:1: SettingWithCopyWarning: \n",
      "A value is trying to be set on a copy of a slice from a DataFrame.\n",
      "Try using .loc[row_indexer,col_indexer] = value instead\n",
      "\n",
      "See the caveats in the documentation: https://pandas.pydata.org/pandas-docs/stable/user_guide/indexing.html#returning-a-view-versus-a-copy\n",
      "  train['Passengers'] = rs_pas.fit_transform(train[['Passengers']])\n",
      "<ipython-input-13-8d79c30db599>:2: SettingWithCopyWarning: \n",
      "A value is trying to be set on a copy of a slice from a DataFrame.\n",
      "Try using .loc[row_indexer,col_indexer] = value instead\n",
      "\n",
      "See the caveats in the documentation: https://pandas.pydata.org/pandas-docs/stable/user_guide/indexing.html#returning-a-view-versus-a-copy\n",
      "  test['Passengers'] = rs_pas.transform(test[['Passengers']])\n"
     ]
    }
   ],
   "source": [
    "train['Passengers'] = rs_pas.fit_transform(train[['Passengers']])\n",
    "test['Passengers'] = rs_pas.transform(test[['Passengers']])"
   ]
  },
  {
   "cell_type": "code",
   "execution_count": 14,
   "id": "fca7ef3d",
   "metadata": {},
   "outputs": [
    {
     "data": {
      "text/plain": [
       "array([[ 1.03030303,  0.83333333,  0.66666667],\n",
       "       [ 0.75757576,  0.83333333,  0.83333333],\n",
       "       [ 1.01818182,  0.83333333,  1.        ],\n",
       "       [ 1.09090909,  1.        , -0.83333333],\n",
       "       [ 0.93333333,  1.        , -0.66666667],\n",
       "       [ 1.1030303 ,  1.        , -0.5       ],\n",
       "       [ 1.35757576,  1.        , -0.33333333],\n",
       "       [ 1.42424242,  1.        , -0.16666667],\n",
       "       [ 1.80606061,  1.        ,  0.        ],\n",
       "       [ 2.33333333,  1.        ,  0.16666667],\n",
       "       [ 2.23636364,  1.        ,  0.33333333],\n",
       "       [ 1.64242424,  1.        ,  0.5       ],\n",
       "       [ 1.35757576,  1.        ,  0.66666667],\n",
       "       [ 0.92727273,  1.        ,  0.83333333],\n",
       "       [ 1.18181818,  1.        ,  1.        ]])"
      ]
     },
     "execution_count": 14,
     "metadata": {},
     "output_type": "execute_result"
    }
   ],
   "source": [
    "train.to_numpy()\n",
    "test.to_numpy()"
   ]
  },
  {
   "cell_type": "code",
   "execution_count": 15,
   "id": "ab5e22c4",
   "metadata": {},
   "outputs": [],
   "source": [
    "def create_dataset(x,y,time_steps=1):\n",
    "    x_train,y_train = [],[]\n",
    "    for i in range(len(x)-time_steps):\n",
    "        v = x.iloc[i:(i+time_steps)].values\n",
    "        x_train.append(v)\n",
    "        y_train.append(y.iloc[i+time_steps])\n",
    "    return np.array(x_train),np.array(y_train)"
   ]
  },
  {
   "cell_type": "code",
   "execution_count": 16,
   "id": "b1fc2c8b",
   "metadata": {},
   "outputs": [
    {
     "name": "stdout",
     "output_type": "stream",
     "text": [
      "(128, 1, 3) (128,)\n"
     ]
    }
   ],
   "source": [
    "time_steps = 1\n",
    "\n",
    "x_train,y_train = create_dataset(train,train.Passengers,time_steps)\n",
    "x_test,y_test = create_dataset(test,test.Passengers,time_steps)\n",
    "\n",
    "print(x_train.shape,y_train.shape)"
   ]
  },
  {
   "cell_type": "code",
   "execution_count": 17,
   "id": "3e4fe0fa",
   "metadata": {},
   "outputs": [],
   "source": [
    "import keras\n",
    "from keras.models import Sequential\n",
    "from keras.layers import Dense,LSTM ,Bidirectional,Dropout"
   ]
  },
  {
   "cell_type": "code",
   "execution_count": 18,
   "id": "91a9358d",
   "metadata": {},
   "outputs": [],
   "source": [
    "model = Sequential()"
   ]
  },
  {
   "cell_type": "code",
   "execution_count": 19,
   "id": "74e8ed36",
   "metadata": {},
   "outputs": [],
   "source": [
    "model.add(Bidirectional(LSTM(128,\n",
    "                            input_shape=(1,3))))"
   ]
  },
  {
   "cell_type": "code",
   "execution_count": 20,
   "id": "bab3f4e7",
   "metadata": {},
   "outputs": [],
   "source": [
    "model.add(Dropout(0.2))"
   ]
  },
  {
   "cell_type": "code",
   "execution_count": 21,
   "id": "2cca714e",
   "metadata": {},
   "outputs": [],
   "source": [
    "model.add(Dense(units = 1))"
   ]
  },
  {
   "cell_type": "code",
   "execution_count": 22,
   "id": "f8d57f65",
   "metadata": {},
   "outputs": [],
   "source": [
    "model.compile(optimizer='adam', loss='mean_squared_error')"
   ]
  },
  {
   "cell_type": "code",
   "execution_count": 23,
   "id": "633fccf0",
   "metadata": {},
   "outputs": [
    {
     "name": "stdout",
     "output_type": "stream",
     "text": [
      "Epoch 1/30\n",
      "7/7 [==============================] - 11s 941ms/step - loss: 0.2377 - val_loss: 1.0015\n",
      "Epoch 2/30\n",
      "7/7 [==============================] - 0s 23ms/step - loss: 0.1870 - val_loss: 0.8799\n",
      "Epoch 3/30\n",
      "7/7 [==============================] - 0s 24ms/step - loss: 0.1533 - val_loss: 0.7601\n",
      "Epoch 4/30\n",
      "7/7 [==============================] - 0s 24ms/step - loss: 0.1254 - val_loss: 0.6456\n",
      "Epoch 5/30\n",
      "7/7 [==============================] - 0s 16ms/step - loss: 0.1000 - val_loss: 0.5374\n",
      "Epoch 6/30\n",
      "7/7 [==============================] - 0s 13ms/step - loss: 0.0779 - val_loss: 0.4368\n",
      "Epoch 7/30\n",
      "7/7 [==============================] - 0s 22ms/step - loss: 0.0583 - val_loss: 0.3456\n",
      "Epoch 8/30\n",
      "7/7 [==============================] - 0s 19ms/step - loss: 0.0462 - val_loss: 0.2660\n",
      "Epoch 9/30\n",
      "7/7 [==============================] - 0s 12ms/step - loss: 0.0330 - val_loss: 0.2000\n",
      "Epoch 10/30\n",
      "7/7 [==============================] - 0s 12ms/step - loss: 0.0237 - val_loss: 0.1488\n",
      "Epoch 11/30\n",
      "7/7 [==============================] - 0s 11ms/step - loss: 0.0176 - val_loss: 0.1122\n",
      "Epoch 12/30\n",
      "7/7 [==============================] - 0s 15ms/step - loss: 0.0141 - val_loss: 0.0888\n",
      "Epoch 13/30\n",
      "7/7 [==============================] - 0s 12ms/step - loss: 0.0118 - val_loss: 0.0756\n",
      "Epoch 14/30\n",
      "7/7 [==============================] - 0s 12ms/step - loss: 0.0126 - val_loss: 0.0698\n",
      "Epoch 15/30\n",
      "7/7 [==============================] - 0s 21ms/step - loss: 0.0120 - val_loss: 0.0683\n",
      "Epoch 16/30\n",
      "7/7 [==============================] - 0s 16ms/step - loss: 0.0130 - val_loss: 0.0686\n",
      "Epoch 17/30\n",
      "7/7 [==============================] - 0s 12ms/step - loss: 0.0117 - val_loss: 0.0693\n",
      "Epoch 18/30\n",
      "7/7 [==============================] - 0s 13ms/step - loss: 0.0123 - val_loss: 0.0700\n",
      "Epoch 19/30\n",
      "7/7 [==============================] - 0s 13ms/step - loss: 0.0137 - val_loss: 0.0703\n",
      "Epoch 20/30\n",
      "7/7 [==============================] - 0s 11ms/step - loss: 0.0126 - val_loss: 0.0703\n",
      "Epoch 21/30\n",
      "7/7 [==============================] - 0s 10ms/step - loss: 0.0125 - val_loss: 0.0704\n",
      "Epoch 22/30\n",
      "7/7 [==============================] - 0s 10ms/step - loss: 0.0125 - val_loss: 0.0702\n",
      "Epoch 23/30\n",
      "7/7 [==============================] - 0s 11ms/step - loss: 0.0122 - val_loss: 0.0700\n",
      "Epoch 24/30\n",
      "7/7 [==============================] - 0s 10ms/step - loss: 0.0119 - val_loss: 0.0701\n",
      "Epoch 25/30\n",
      "7/7 [==============================] - 0s 11ms/step - loss: 0.0116 - val_loss: 0.0708\n",
      "Epoch 26/30\n",
      "7/7 [==============================] - 0s 14ms/step - loss: 0.0121 - val_loss: 0.0713\n",
      "Epoch 27/30\n",
      "7/7 [==============================] - 0s 21ms/step - loss: 0.0115 - val_loss: 0.0711\n",
      "Epoch 28/30\n",
      "7/7 [==============================] - 0s 18ms/step - loss: 0.0120 - val_loss: 0.0715\n",
      "Epoch 29/30\n",
      "7/7 [==============================] - 0s 14ms/step - loss: 0.0118 - val_loss: 0.0719\n",
      "Epoch 30/30\n",
      "7/7 [==============================] - 0s 14ms/step - loss: 0.0113 - val_loss: 0.0723\n"
     ]
    }
   ],
   "source": [
    "history = model.fit(x_train,y_train,\n",
    "                   epochs=30,\n",
    "                   batch_size=16,\n",
    "                   validation_split=0.2,\n",
    "                   shuffle=False \n",
    "                   )"
   ]
  },
  {
   "cell_type": "code",
   "execution_count": 24,
   "id": "f1471718",
   "metadata": {},
   "outputs": [],
   "source": [
    "model.save('airline4-copy1.h5')"
   ]
  },
  {
   "cell_type": "code",
   "execution_count": 25,
   "id": "b5ecbde8",
   "metadata": {},
   "outputs": [
    {
     "name": "stdout",
     "output_type": "stream",
     "text": [
      "Train Score: 0.03 MSE (0.17 RMSE)\n",
      "Test Score: 0.09 MSE (0.30 RMSE)\n"
     ]
    }
   ],
   "source": [
    "import math\n",
    "trainScore = model.evaluate(x_train,y_train, verbose=0)\n",
    "print('Train Score: %.2f MSE (%.2f RMSE)' % (trainScore, math.sqrt(trainScore)))\n",
    "testScore = model.evaluate(x_test, y_test, verbose=0)\n",
    "print('Test Score: %.2f MSE (%.2f RMSE)' % (testScore, math.sqrt(testScore)))"
   ]
  },
  {
   "cell_type": "code",
   "execution_count": 26,
   "id": "a2948a41",
   "metadata": {},
   "outputs": [
    {
     "data": {
      "text/plain": [
       "array([[[ 1.03030303,  0.83333333,  0.66666667]],\n",
       "\n",
       "       [[ 0.75757576,  0.83333333,  0.83333333]],\n",
       "\n",
       "       [[ 1.01818182,  0.83333333,  1.        ]],\n",
       "\n",
       "       [[ 1.09090909,  1.        , -0.83333333]],\n",
       "\n",
       "       [[ 0.93333333,  1.        , -0.66666667]],\n",
       "\n",
       "       [[ 1.1030303 ,  1.        , -0.5       ]],\n",
       "\n",
       "       [[ 1.35757576,  1.        , -0.33333333]],\n",
       "\n",
       "       [[ 1.42424242,  1.        , -0.16666667]],\n",
       "\n",
       "       [[ 1.80606061,  1.        ,  0.        ]],\n",
       "\n",
       "       [[ 2.33333333,  1.        ,  0.16666667]],\n",
       "\n",
       "       [[ 2.23636364,  1.        ,  0.33333333]],\n",
       "\n",
       "       [[ 1.64242424,  1.        ,  0.5       ]],\n",
       "\n",
       "       [[ 1.35757576,  1.        ,  0.66666667]],\n",
       "\n",
       "       [[ 0.92727273,  1.        ,  0.83333333]]])"
      ]
     },
     "execution_count": 26,
     "metadata": {},
     "output_type": "execute_result"
    }
   ],
   "source": [
    "x_test"
   ]
  },
  {
   "cell_type": "code",
   "execution_count": 27,
   "id": "660c822e",
   "metadata": {},
   "outputs": [
    {
     "data": {
      "text/plain": [
       "array([[427.2096 ],\n",
       "       [394.04285],\n",
       "       [421.41928],\n",
       "       [459.02405],\n",
       "       [440.13037],\n",
       "       [459.34534],\n",
       "       [488.3977 ],\n",
       "       [495.15747],\n",
       "       [538.8522 ],\n",
       "       [599.3462 ],\n",
       "       [586.0842 ],\n",
       "       [514.30896],\n",
       "       [478.91486],\n",
       "       [427.0127 ]], dtype=float32)"
      ]
     },
     "execution_count": 27,
     "metadata": {},
     "output_type": "execute_result"
    }
   ],
   "source": [
    "y_pred = model.predict(x_test)\n",
    "ot = rs_pas.inverse_transform(y_pred)\n",
    "ot"
   ]
  },
  {
   "cell_type": "code",
   "execution_count": 28,
   "id": "1b0560e3",
   "metadata": {},
   "outputs": [
    {
     "data": {
      "text/plain": [
       "array([[427.2096 ],\n",
       "       [394.04285],\n",
       "       [421.41928],\n",
       "       [459.02405],\n",
       "       [440.13037],\n",
       "       [459.34534],\n",
       "       [488.3977 ],\n",
       "       [495.15747],\n",
       "       [538.8522 ],\n",
       "       [599.3462 ],\n",
       "       [586.0842 ],\n",
       "       [514.30896],\n",
       "       [478.91486],\n",
       "       [427.0127 ]], dtype=float32)"
      ]
     },
     "execution_count": 28,
     "metadata": {},
     "output_type": "execute_result"
    }
   ],
   "source": [
    "y_test_inv = rs_pas.inverse_transform(y_test.reshape(1,-1))\n",
    "y_pred_inv = rs_pas.inverse_transform(y_pred)\n",
    "y_pred_inv"
   ]
  },
  {
   "cell_type": "code",
   "execution_count": 29,
   "id": "e4bc0395",
   "metadata": {},
   "outputs": [],
   "source": [
    "model.save('airline4-copy.h5')"
   ]
  },
  {
   "cell_type": "code",
   "execution_count": 30,
   "id": "c22af670",
   "metadata": {},
   "outputs": [
    {
     "name": "stdout",
     "output_type": "stream",
     "text": [
      "Train Score: 0.03 MSE (0.17 RMSE)\n",
      "Test Score: 0.09 MSE (0.30 RMSE)\n"
     ]
    }
   ],
   "source": [
    "trainScore = model.evaluate(x_train,y_train, verbose=0)\n",
    "print('Train Score: %.2f MSE (%.2f RMSE)' % (trainScore, math.sqrt(trainScore)))\n",
    "testScore = model.evaluate(x_test, y_test, verbose=0)\n",
    "print('Test Score: %.2f MSE (%.2f RMSE)' % (testScore, math.sqrt(testScore)))"
   ]
  },
  {
   "cell_type": "code",
   "execution_count": 31,
   "id": "fbb27c50",
   "metadata": {},
   "outputs": [],
   "source": [
    "y_test_inv = rs_pas.inverse_transform(y_test.reshape(1,-1))\n",
    "y_pred_inv = rs_pas.inverse_transform(y_pred)\n",
    "\n",
    "arr_1 = np.array(y_test_inv)\n",
    "arr_2 = np.array(y_pred_inv)\n",
    "\n",
    "actual = pd.DataFrame(data=arr_1.flatten(),columns=[\"actual\"])\n",
    "predicted = pd.DataFrame(data=arr_2.flatten(),columns = [\"predicted\"])"
   ]
  },
  {
   "cell_type": "code",
   "execution_count": 32,
   "id": "489edd25",
   "metadata": {},
   "outputs": [
    {
     "data": {
      "text/html": [
       "<div>\n",
       "<style scoped>\n",
       "    .dataframe tbody tr th:only-of-type {\n",
       "        vertical-align: middle;\n",
       "    }\n",
       "\n",
       "    .dataframe tbody tr th {\n",
       "        vertical-align: top;\n",
       "    }\n",
       "\n",
       "    .dataframe thead th {\n",
       "        text-align: right;\n",
       "    }\n",
       "</style>\n",
       "<table border=\"1\" class=\"dataframe\">\n",
       "  <thead>\n",
       "    <tr style=\"text-align: right;\">\n",
       "      <th></th>\n",
       "      <th>actual</th>\n",
       "      <th>predicted</th>\n",
       "    </tr>\n",
       "  </thead>\n",
       "  <tbody>\n",
       "    <tr>\n",
       "      <th>0</th>\n",
       "      <td>362.0</td>\n",
       "      <td>427.209595</td>\n",
       "    </tr>\n",
       "    <tr>\n",
       "      <th>1</th>\n",
       "      <td>405.0</td>\n",
       "      <td>394.042847</td>\n",
       "    </tr>\n",
       "    <tr>\n",
       "      <th>2</th>\n",
       "      <td>417.0</td>\n",
       "      <td>421.419281</td>\n",
       "    </tr>\n",
       "    <tr>\n",
       "      <th>3</th>\n",
       "      <td>391.0</td>\n",
       "      <td>459.024048</td>\n",
       "    </tr>\n",
       "    <tr>\n",
       "      <th>4</th>\n",
       "      <td>419.0</td>\n",
       "      <td>440.130371</td>\n",
       "    </tr>\n",
       "  </tbody>\n",
       "</table>\n",
       "</div>"
      ],
      "text/plain": [
       "   actual   predicted\n",
       "0   362.0  427.209595\n",
       "1   405.0  394.042847\n",
       "2   417.0  421.419281\n",
       "3   391.0  459.024048\n",
       "4   419.0  440.130371"
      ]
     },
     "execution_count": 32,
     "metadata": {},
     "output_type": "execute_result"
    }
   ],
   "source": [
    "final = pd.concat([actual,predicted],axis=1)\n",
    "final.head()"
   ]
  },
  {
   "cell_type": "code",
   "execution_count": null,
   "id": "3e8af348",
   "metadata": {},
   "outputs": [],
   "source": []
  }
 ],
 "metadata": {
  "kernelspec": {
   "display_name": "Python 3",
   "language": "python",
   "name": "python3"
  },
  "language_info": {
   "codemirror_mode": {
    "name": "ipython",
    "version": 3
   },
   "file_extension": ".py",
   "mimetype": "text/x-python",
   "name": "python",
   "nbconvert_exporter": "python",
   "pygments_lexer": "ipython3",
   "version": "3.8.8"
  }
 },
 "nbformat": 4,
 "nbformat_minor": 5
}
